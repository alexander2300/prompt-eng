{
 "cells": [
  {
   "cell_type": "markdown",
   "metadata": {},
   "source": [
    "\n",
    "\n"
   ]
  },
  {
   "cell_type": "markdown",
   "metadata": {},
   "source": [
    "# Prompt Template Prompting\n",
    "\n",
    "Prompt Template Prompting refers to a technique where predefined templates are used to construct effective prompts that guide large language models (LLMs) to generate responses tailored to specific use cases. The templates typically contain static text combined with dynamic input variables, allowing for consistent, reusable, and customizable prompts.\n",
    "\n",
    "Prompt templates are widely used across various domains, such as:\n",
    "* **Question Generation**: Templates can generate quiz questions by filling in variables related to topics.\n",
    "* **Text Summarization**: Static instructions combined with variable documents or inputs allow flexible summarization.\n",
    "* **Coding Assistance**: Dynamic prompts help LLMs generate code snippets for different programming tasks.\n",
    "\n",
    "## References:\n",
    "\n",
    "* (OpenAI Documentation for Prompt Engineering)[https://platform.openai.com/docs/guides/prompt-engineering]"
   ]
  },
  {
   "cell_type": "markdown",
   "metadata": {},
   "source": [
    "## Running this code on MyBind.org\n",
    "\n",
    "Note: remember that you will need to **adjust CONFIG** with **proper URL and API_KEY**!\n",
    "\n",
    "[![Binder](https://mybinder.org/badge_logo.svg)](https://mybinder.org/v2/gh/GenILab-FAU/prompt-eng/HEAD?urlpath=%2Fdoc%2Ftree%2Fprompt-eng%2Fprompt_template.ipynb)\n"
   ]
  },
  {
   "cell_type": "code",
   "execution_count": 8,
   "metadata": {},
   "outputs": [
    {
     "name": "stdout",
     "output_type": "stream",
     "text": [
      "{'model': 'llama3.2:latest', 'prompt': 'Act like you are a conductor, I want to create an application to solve this problem with multiple sources and machine learning.\\nHow long does it take to get from Miami to Ft. Lauderdale\\nYou are an AI Bot that is responsible for creating product requirements and analysis for an application that can solve this.', 'stream': False, 'options': {'temperature': 1.0, 'num_ctx': 1000, 'num_predict': 10000}}\n",
      "Welcome! As the conductor of this project, I'll guide you through the process of creating an application to determine travel time from Miami to Fort Lauderdale.\n",
      "\n",
      "**Problem Statement:**\n",
      "The problem at hand is to provide a user-friendly application that calculates the approximate travel time from Miami to Ft. Lauderdale using multiple sources and machine learning algorithms.\n",
      "\n",
      "**Product Requirements Analysis:**\n",
      "\n",
      "1. **Input Parameters:**\n",
      "\t* Origin: Miami\n",
      "\t* Destination: Fort Lauderdale\n",
      "\t* Travel Mode (Car, Air, Bus, or Train)\n",
      "2. **Output Parameters:**\n",
      "\t* Estimated travel time in minutes/hours\n",
      "\t* Recommended transportation options with estimated costs (if available)\n",
      "3. **User Interface Requirements:**\n",
      "\t* Simple, user-friendly design for easy input and output of data\n",
      "\t* Visualizations of maps, traffic patterns, or other relevant information (optional)\n",
      "4. **Data Sources:**\n",
      "\t* Open-source APIs or data feeds from transportation authorities\n",
      "\t* Machine learning models to predict travel time based on historical data\n",
      "\n",
      "**Technical Requirements Analysis:**\n",
      "\n",
      "1. **Backend Frameworks:**\n",
      "\t* Python with Flask or Django for API development\n",
      "\t* Alternatively, Node.js with Express for a more scalable option\n",
      "2. **Frontend Frameworks:**\n",
      "\t* React or Angular for building the user interface\n",
      "3. **Machine Learning Libraries:**\n",
      "\t* TensorFlow, PyTorch, or Scikit-learn for training and testing machine learning models\n",
      "4. **Data Storage and Management:**\n",
      "\t* Relational databases (e.g., MySQL) or NoSQL databases (e.g., MongoDB) for storing historical data\n",
      "5. **Geolocation Services:**\n",
      "\t* Google Maps API or OpenStreetMap for geocoding and mapping\n",
      "\n",
      "**Use Cases and Scenarios:**\n",
      "\n",
      "1. **Real-time Travel Planning:** Provide estimated travel times in real-time, taking into account current traffic conditions, road closures, or weather events.\n",
      "2. **Historical Data Analysis:** Offer historical data analytics to help users understand trends and patterns in travel time, helping them make informed decisions for future trips.\n",
      "3. **User Profiling:** Allow users to create profiles based on their preferences (e.g., preferred mode of transportation, budget) and provide personalized recommendations.\n",
      "\n",
      "**Success Metrics and Key Performance Indicators:**\n",
      "\n",
      "1. **Accuracy of Estimated Travel Time:** Evaluate the accuracy of machine learning models in predicting travel time within a certain margin.\n",
      "2. **User Adoption Rate:** Track the number of users who regularly use the application for travel planning and estimate the overall user satisfaction rate.\n",
      "3. **Revenue Streams:** Identify potential revenue streams, such as advertising or sponsored content, to monetize the application.\n",
      "\n",
      "Now that we've outlined the key aspects of our project, let's get started with designing the data architecture and selecting machine learning algorithms!\n",
      "Time taken: 11.433s\n"
     ]
    }
   ],
   "source": [
    "##\n",
    "## PROMPT TEMPLATE PROMPTING\n",
    "##\n",
    "\n",
    "from _pipeline import create_payload, model_req\n",
    "\n",
    "#### (1) Adjust the inbounding  Prompt, simulating inbounding requests from users or other systems\n",
    "MESSAGE = \"How long does it take to get from Miami to Ft. Lauderdale\"\n",
    "\n",
    "#### (2) Adjust the Prompt Engineering Technique to be applied, simulating Workflow Templates\n",
    "TEMPLATE_BEFORE=\"Act like you are a conductor, I want to create an application to solve this problem with multiple sources and machine learning.\"\n",
    "TEMPLATE_AFTER=\"You are an AI Bot that is responsible for creating product requirements and analysis for an application that can solve this.\"\n",
    "PROMPT = TEMPLATE_BEFORE + '\\n' + MESSAGE + '\\n' + TEMPLATE_AFTER\n",
    "\n",
    "#### (3) Configure the Model request, simulating Workflow Orchestration\n",
    "# Documentation: https://github.com/ollama/ollama/blob/main/docs/api.md\n",
    "payload = create_payload(target=\"ollama\",\n",
    "                         model=\"llama3.2:latest\", \n",
    "                         prompt=PROMPT, \n",
    "                         temperature=1.0, \n",
    "                         num_ctx=1000, \n",
    "                         num_predict=10000)\n",
    "\n",
    "### YOU DONT NEED TO CONFIGURE ANYTHING ELSE FROM THIS POINT\n",
    "# Send out to the model\n",
    "time, response = model_req(payload=payload)\n",
    "print(response)\n",
    "if time: print(f'Time taken: {time}s')"
   ]
  },
  {
   "cell_type": "code",
   "execution_count": null,
   "metadata": {},
   "outputs": [],
   "source": []
  }
 ],
 "metadata": {
  "kernelspec": {
   "display_name": "Python 3 (ipykernel)",
   "language": "python",
   "name": "python3"
  },
  "language_info": {
   "codemirror_mode": {
    "name": "ipython",
    "version": 3
   },
   "file_extension": ".py",
   "mimetype": "text/x-python",
   "name": "python",
   "nbconvert_exporter": "python",
   "pygments_lexer": "ipython3",
   "version": "3.11.5"
  }
 },
 "nbformat": 4,
 "nbformat_minor": 4
}
